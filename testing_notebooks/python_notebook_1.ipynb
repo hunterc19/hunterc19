{
 "cells": [
  {
   "cell_type": "code",
   "execution_count": 1,
   "metadata": {},
   "outputs": [
    {
     "name": "stdout",
     "output_type": "stream",
     "text": [
      "   store type  department        date  weekly_sales  is_holiday  \\\n",
      "0      1    A           1  2023-01-01       20000.0       False   \n",
      "1      2    B           1  2023-01-01       15000.0       False   \n",
      "2      1    A           2  2023-01-08       25000.0        True   \n",
      "3      2    B           2  2023-01-08       12000.0       False   \n",
      "4      1    A           3  2023-01-15       30000.0        True   \n",
      "\n",
      "   temperature_c  fuel_price_usd_per_l  unemployment  \n",
      "0           22.5                  0.75           7.5  \n",
      "1           21.0                  0.80           8.0  \n",
      "2           23.0                  0.78           7.8  \n",
      "3           19.0                  0.82           8.1  \n",
      "4           20.5                  0.77           7.7  \n"
     ]
    }
   ],
   "source": [
    "import pandas as pd\n",
    "\n",
    "# Define the data as a dictionary\n",
    "df = {\n",
    "    'store': [1, 2, 1, 2, 1],\n",
    "    'type': ['A', 'B', 'A', 'B', 'A'],\n",
    "    'department': [1, 1, 2, 2, 3],\n",
    "    'date': ['2023-01-01', '2023-01-01', '2023-01-08', '2023-01-08', '2023-01-15'],\n",
    "    'weekly_sales': [20000.0, 15000.0, 25000.0, 12000.0, 30000.0],\n",
    "    'is_holiday': [False, False, True, False, True],\n",
    "    'temperature_c': [22.5, 21.0, 23.0, 19.0, 20.5],\n",
    "    'fuel_price_usd_per_l': [0.75, 0.80, 0.78, 0.82, 0.77],\n",
    "    'unemployment': [7.5, 8.0, 7.8, 8.1, 7.7]\n",
    "}\n",
    "\n",
    "# Create the DataFrame from the dictionary\n",
    "df = pd.DataFrame(df)\n",
    "\n",
    "print(df)"
   ]
  }
 ],
 "metadata": {
  "kernelspec": {
   "display_name": "Python 3",
   "language": "python",
   "name": "python3"
  },
  "language_info": {
   "codemirror_mode": {
    "name": "ipython",
    "version": 3
   },
   "file_extension": ".py",
   "mimetype": "text/x-python",
   "name": "python",
   "nbconvert_exporter": "python",
   "pygments_lexer": "ipython3",
   "version": "3.12.4"
  }
 },
 "nbformat": 4,
 "nbformat_minor": 2
}
